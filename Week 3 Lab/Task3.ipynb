{
 "cells": [
  {
   "cell_type": "markdown",
   "id": "8cb5216e",
   "metadata": {},
   "source": [
    "# Question 1"
   ]
  },
  {
   "cell_type": "code",
   "execution_count": 2,
   "id": "717cfbad",
   "metadata": {},
   "outputs": [],
   "source": [
    "import pandas as pd\n",
    "import numpy as np\n",
    "import matplotlib as plt\n",
    "from sklearn.preprocessing import LabelEncoder, OneHotEncoder"
   ]
  },
  {
   "cell_type": "code",
   "execution_count": 3,
   "id": "27313ade",
   "metadata": {},
   "outputs": [],
   "source": [
    "df = pd.read_csv('tips.csv')"
   ]
  },
  {
   "cell_type": "code",
   "execution_count": 4,
   "id": "f9df6e56",
   "metadata": {},
   "outputs": [
    {
     "name": "stdout",
     "output_type": "stream",
     "text": [
      "<class 'pandas.core.frame.DataFrame'>\n",
      "RangeIndex: 244 entries, 0 to 243\n",
      "Data columns (total 8 columns):\n",
      " #   Column      Non-Null Count  Dtype  \n",
      "---  ------      --------------  -----  \n",
      " 0   Unnamed: 0  244 non-null    int64  \n",
      " 1   total_bill  205 non-null    float64\n",
      " 2   tip         244 non-null    float64\n",
      " 3   sex         244 non-null    object \n",
      " 4   smoker      244 non-null    object \n",
      " 5   day         244 non-null    object \n",
      " 6   time        244 non-null    object \n",
      " 7   size        244 non-null    int64  \n",
      "dtypes: float64(2), int64(2), object(4)\n",
      "memory usage: 15.4+ KB\n",
      "None\n"
     ]
    }
   ],
   "source": [
    "print(df.info())"
   ]
  },
  {
   "cell_type": "code",
   "execution_count": 5,
   "id": "4886b8c0",
   "metadata": {},
   "outputs": [
    {
     "name": "stdout",
     "output_type": "stream",
     "text": [
      "Unnamed: 0     0\n",
      "total_bill    39\n",
      "tip            0\n",
      "sex            0\n",
      "smoker         0\n",
      "day            0\n",
      "time           0\n",
      "size           0\n",
      "dtype: int64\n"
     ]
    }
   ],
   "source": [
    "print(df.isnull().sum())"
   ]
  },
  {
   "cell_type": "code",
   "execution_count": 6,
   "id": "9d03bd93",
   "metadata": {},
   "outputs": [],
   "source": [
    "# Numerical columns: 'total_bill' and 'tip' that have numerical values\n",
    "# impute the null values with the mean values of of the columns 'total_bill' and 'tip'\n",
    "df['total_bill'].fillna(df['total_bill'].mean(), inplace=True)\n",
    "df['tip'].fillna(df['tip'].mean(), inplace=True)\n",
    "\n",
    "# Categorical columns: 'sex', 'smoker', 'day', 'time' that are classified into true and false categories\n",
    "# impute with the mode (most frequent value) of each column\n",
    "df['sex'].fillna(df['sex'].mode()[0], inplace=True)\n",
    "df['smoker'].fillna(df['smoker'].mode()[0], inplace=True)\n",
    "df['day'].fillna(df['day'].mode()[0], inplace=True)\n",
    "df['time'].fillna(df['time'].mode()[0], inplace=True)"
   ]
  },
  {
   "cell_type": "code",
   "execution_count": 7,
   "id": "ec28f4d6",
   "metadata": {},
   "outputs": [
    {
     "name": "stdout",
     "output_type": "stream",
     "text": [
      "\n",
      "Missing values after handling:\n",
      "Unnamed: 0    0\n",
      "total_bill    0\n",
      "tip           0\n",
      "sex           0\n",
      "smoker        0\n",
      "day           0\n",
      "time          0\n",
      "size          0\n",
      "dtype: int64\n"
     ]
    }
   ],
   "source": [
    "print(\"\\nMissing values after handling:\")\n",
    "print(df.isnull().sum())"
   ]
  },
  {
   "cell_type": "markdown",
   "id": "22dcb6d6",
   "metadata": {},
   "source": [
    "# Question 2"
   ]
  },
  {
   "cell_type": "code",
   "execution_count": 8,
   "id": "c114da8c",
   "metadata": {},
   "outputs": [
    {
     "name": "stdout",
     "output_type": "stream",
     "text": [
      "     Unnamed: 0  total_bill   tip  size  sex_label_encoded  \\\n",
      "0             0   16.990000  1.01     2                  0   \n",
      "1             1   21.360195  1.66     3                  1   \n",
      "2             2   21.010000  3.50     3                  1   \n",
      "3             3   23.680000  3.31     2                  1   \n",
      "4             4   24.590000  3.61     4                  0   \n",
      "..          ...         ...   ...   ...                ...   \n",
      "239         239   29.030000  5.92     3                  1   \n",
      "240         240   27.180000  2.00     2                  0   \n",
      "241         241   22.670000  2.00     2                  1   \n",
      "242         242   17.820000  1.75     2                  1   \n",
      "243         243   18.780000  3.00     2                  0   \n",
      "\n",
      "     smoker_label_encoded  day_Fri  day_Sat  day_Sun  day_Thur  time_Dinner  \\\n",
      "0                       0        0        0        1         0            1   \n",
      "1                       0        0        0        1         0            1   \n",
      "2                       0        0        0        1         0            1   \n",
      "3                       0        0        0        1         0            1   \n",
      "4                       0        0        0        1         0            1   \n",
      "..                    ...      ...      ...      ...       ...          ...   \n",
      "239                     0        0        1        0         0            1   \n",
      "240                     1        0        1        0         0            1   \n",
      "241                     1        0        1        0         0            1   \n",
      "242                     0        0        1        0         0            1   \n",
      "243                     0        0        0        0         1            1   \n",
      "\n",
      "     time_Lunch  day_ordinal_encoded  \n",
      "0             0                    3  \n",
      "1             0                    3  \n",
      "2             0                    3  \n",
      "3             0                    3  \n",
      "4             0                    3  \n",
      "..          ...                  ...  \n",
      "239           0                    2  \n",
      "240           0                    2  \n",
      "241           0                    2  \n",
      "242           0                    2  \n",
      "243           0                    0  \n",
      "\n",
      "[244 rows x 13 columns]\n"
     ]
    }
   ],
   "source": [
    "# Categorical columns: 'sex', 'smoker', 'day', 'time'\n",
    "\n",
    "# Label Encoding\n",
    "label_encoder = LabelEncoder()\n",
    "df['sex_label_encoded'] = label_encoder.fit_transform(df['sex'])\n",
    "df['smoker_label_encoded'] = label_encoder.fit_transform(df['smoker'])\n",
    "\n",
    "# One-Hot Encoding\n",
    "one_hot_encoded = pd.get_dummies(df[['day', 'time']])\n",
    "df = pd.concat([df, one_hot_encoded], axis=1)\n",
    "\n",
    "# Ordinal Encoding \n",
    "ordinal_mapping = {'Thur': 0, 'Fri': 1, 'Sat': 2, 'Sun': 3}\n",
    "df['day_ordinal_encoded'] = df['day'].map(ordinal_mapping)\n",
    "\n",
    "# Dropping original categorical columns after encoding\n",
    "df.drop(['sex', 'smoker', 'day', 'time'], axis=1, inplace=True)\n",
    "\n",
    "print(df)"
   ]
  },
  {
   "cell_type": "markdown",
   "id": "a856b82f",
   "metadata": {},
   "source": [
    "# Question 3"
   ]
  },
  {
   "cell_type": "code",
   "execution_count": 33,
   "id": "0bf40df4",
   "metadata": {},
   "outputs": [
    {
     "name": "stdout",
     "output_type": "stream",
     "text": [
      "     Unnamed: 0  total_bill   tip  size  sex_label_encoded  \\\n",
      "0             0   16.990000  1.01     2                  0   \n",
      "1             1   21.360195  1.66     3                  1   \n",
      "2             2   21.010000  3.50     3                  1   \n",
      "3             3   23.680000  3.31     2                  1   \n",
      "4             4   24.590000  3.61     4                  0   \n",
      "..          ...         ...   ...   ...                ...   \n",
      "239         239   29.030000  5.92     3                  1   \n",
      "240         240   27.180000  2.00     2                  0   \n",
      "241         241   22.670000  2.00     2                  1   \n",
      "242         242   17.820000  1.75     2                  1   \n",
      "243         243   18.780000  3.00     2                  0   \n",
      "\n",
      "     smoker_label_encoded  day_Fri  day_Sat  day_Sun  day_Thur  ...  \\\n",
      "0                       0        0        0        1         0  ...   \n",
      "1                       0        0        0        1         0  ...   \n",
      "2                       0        0        0        1         0  ...   \n",
      "3                       0        0        0        1         0  ...   \n",
      "4                       0        0        0        1         0  ...   \n",
      "..                    ...      ...      ...      ...       ...  ...   \n",
      "239                     0        0        1        0         0  ...   \n",
      "240                     1        0        1        0         0  ...   \n",
      "241                     1        0        1        0         0  ...   \n",
      "242                     0        0        1        0         0  ...   \n",
      "243                     0        0        0        0         1  ...   \n",
      "\n",
      "     day_ordinal_encoded  total_bill_mm    tip_mm  size_mm  total_bill_std  \\\n",
      "0                      3       0.291579  0.001111      0.2       -0.538972   \n",
      "1                      3       0.383121  0.073333      0.4        0.000000   \n",
      "2                      3       0.375786  0.277778      0.4       -0.043189   \n",
      "3                      3       0.431713  0.256667      0.2        0.286099   \n",
      "4                      3       0.450775  0.290000      0.6        0.398329   \n",
      "..                   ...            ...       ...      ...             ...   \n",
      "239                    2       0.543779  0.546667      0.4        0.945909   \n",
      "240                    2       0.505027  0.111111      0.2        0.717751   \n",
      "241                    2       0.410557  0.111111      0.2        0.161537   \n",
      "242                    2       0.308965  0.083333      0.2       -0.436609   \n",
      "243                    0       0.329074  0.222222      0.2       -0.318213   \n",
      "\n",
      "      tip_std  size_std  total_bill_z     tip_z    size_z  \n",
      "0   -1.439947 -0.600193     -0.537866 -1.436993 -0.598961  \n",
      "1   -0.969205  0.453383      0.000000 -0.967217  0.452453  \n",
      "2    0.363356  0.453383     -0.043101  0.362610  0.452453  \n",
      "3    0.225754 -0.600193      0.285512  0.225291 -0.598961  \n",
      "4    0.443020  1.506958      0.397511  0.442111  1.503867  \n",
      "..        ...       ...           ...       ...       ...  \n",
      "239  2.115963  0.453383      0.943969  2.111622  0.452453  \n",
      "240 -0.722971 -0.600193      0.716278 -0.721488 -0.598961  \n",
      "241 -0.722971 -0.600193      0.161206 -0.721488 -0.598961  \n",
      "242 -0.904026 -0.600193     -0.435713 -0.902171 -0.598961  \n",
      "243  0.001247 -0.600193     -0.317560  0.001244 -0.598961  \n",
      "\n",
      "[244 rows x 22 columns]\n"
     ]
    }
   ],
   "source": [
    "from sklearn.preprocessing import MinMaxScaler, StandardScaler\n",
    "\n",
    "# Min-Max Normalization\n",
    "min_max_scaler = MinMaxScaler()\n",
    "tips_min_max_scaled = min_max_scaler.fit_transform(df[['total_bill', 'tip', 'size']])\n",
    "tips_min_max_scaled = pd.DataFrame(tips_min_max_scaled, columns=['total_bill_mm', 'tip_mm', 'size_mm'])\n",
    "\n",
    "# Standardization (Z-score)\n",
    "standard_scaler = StandardScaler()\n",
    "tips_standard_scaled = standard_scaler.fit_transform(df[['total_bill', 'tip', 'size']])\n",
    "tips_standard_scaled = pd.DataFrame(tips_standard_scaled, columns=['total_bill_std', 'tip_std', 'size_std'])\n",
    "\n",
    "# Z-score scaling\n",
    "z_score_scaled = (df[['total_bill', 'tip', 'size']] - df[['total_bill', 'tip', 'size']].mean()) / df[['total_bill', 'tip', 'size']].std()\n",
    "z_score_scaled.columns = ['total_bill_z', 'tip_z', 'size_z']\n",
    "\n",
    "# Concatenating the scaled features to the original DataFrame\n",
    "tips_scaled = pd.concat([df, tips_min_max_scaled, tips_standard_scaled, z_score_scaled], axis=1)\n",
    "\n",
    "print(tips_scaled)"
   ]
  },
  {
   "cell_type": "markdown",
   "id": "2cd9a0bf",
   "metadata": {},
   "source": [
    "# Question 4"
   ]
  },
  {
   "cell_type": "code",
   "execution_count": 35,
   "id": "12bbf663",
   "metadata": {},
   "outputs": [
    {
     "name": "stdout",
     "output_type": "stream",
     "text": [
      "     Unnamed: 0  total_bill   tip  size  sex_label_encoded  \\\n",
      "0             0   16.990000  1.01     2                  0   \n",
      "1             1   21.360195  1.66     3                  1   \n",
      "2             2   21.010000  3.50     3                  1   \n",
      "3             3   23.680000  3.31     2                  1   \n",
      "4             4   24.590000  3.61     4                  0   \n",
      "..          ...         ...   ...   ...                ...   \n",
      "239         239   29.030000  5.92     3                  1   \n",
      "240         240   27.180000  2.00     2                  0   \n",
      "241         241   22.670000  2.00     2                  1   \n",
      "242         242   17.820000  1.75     2                  1   \n",
      "243         243   18.780000  3.00     2                  0   \n",
      "\n",
      "     smoker_label_encoded  day_Fri  day_Sat  day_Sun  day_Thur  time_Dinner  \\\n",
      "0                       0        0        0        1         0            1   \n",
      "1                       0        0        0        1         0            1   \n",
      "2                       0        0        0        1         0            1   \n",
      "3                       0        0        0        1         0            1   \n",
      "4                       0        0        0        1         0            1   \n",
      "..                    ...      ...      ...      ...       ...          ...   \n",
      "239                     0        0        1        0         0            1   \n",
      "240                     1        0        1        0         0            1   \n",
      "241                     1        0        1        0         0            1   \n",
      "242                     0        0        1        0         0            1   \n",
      "243                     0        0        0        0         1            1   \n",
      "\n",
      "     time_Lunch  day_ordinal_encoded  tip_percentage  avg_tip_percentage  \n",
      "0             0                    3        5.944673           14.824175  \n",
      "1             0                    3        7.771465           14.778030  \n",
      "2             0                    3       16.658734           14.778030  \n",
      "3             0                    3       13.978041           14.824175  \n",
      "4             0                    3       14.680765           14.594901  \n",
      "..          ...                  ...             ...                 ...  \n",
      "239           0                    2       20.392697           14.778030  \n",
      "240           0                    2        7.358352           14.824175  \n",
      "241           0                    2        8.822232           14.824175  \n",
      "242           0                    2        9.820426           14.824175  \n",
      "243           0                    0       15.974441           14.824175  \n",
      "\n",
      "[244 rows x 15 columns]\n"
     ]
    }
   ],
   "source": [
    "# Calculate tip percentage for each row\n",
    "df['tip_percentage'] = (df['tip'] / df['total_bill']) * 100\n",
    "\n",
    "# Group by dining party size and calculate the average tip percentage\n",
    "average_tip_percentage_by_size = df.groupby('size')['tip_percentage'].mean().reset_index()\n",
    "average_tip_percentage_by_size.columns = ['size', 'avg_tip_percentage']\n",
    "\n",
    "# Merge the average tip percentage with the original DataFrame\n",
    "tips_with_avg_tip_percentage = pd.merge(df, average_tip_percentage_by_size, on='size', how='left')\n",
    "\n",
    "print(tips_with_avg_tip_percentage)"
   ]
  },
  {
   "cell_type": "markdown",
   "id": "7e2a4fb4",
   "metadata": {},
   "source": [
    "# Question 5"
   ]
  },
  {
   "cell_type": "code",
   "execution_count": 36,
   "id": "828b67d5",
   "metadata": {},
   "outputs": [
    {
     "name": "stdout",
     "output_type": "stream",
     "text": [
      "     Unnamed: 0  total_bill   tip  size  sex_label_encoded  \\\n",
      "0             0   16.990000  1.01     2                  0   \n",
      "1             1   21.360195  1.66     3                  1   \n",
      "2             2   21.010000  3.50     3                  1   \n",
      "3             3   23.680000  3.31     2                  1   \n",
      "4             4   24.590000  3.61     4                  0   \n",
      "..          ...         ...   ...   ...                ...   \n",
      "239         239   29.030000  5.92     3                  1   \n",
      "240         240   27.180000  2.00     2                  0   \n",
      "241         241   22.670000  2.00     2                  1   \n",
      "242         242   17.820000  1.75     2                  1   \n",
      "243         243   18.780000  3.00     2                  0   \n",
      "\n",
      "     smoker_label_encoded  day_Fri  day_Sat  day_Sun  day_Thur  time_Dinner  \\\n",
      "0                       0        0        0        1         0            1   \n",
      "1                       0        0        0        1         0            1   \n",
      "2                       0        0        0        1         0            1   \n",
      "3                       0        0        0        1         0            1   \n",
      "4                       0        0        0        1         0            1   \n",
      "..                    ...      ...      ...      ...       ...          ...   \n",
      "239                     0        0        1        0         0            1   \n",
      "240                     1        0        1        0         0            1   \n",
      "241                     1        0        1        0         0            1   \n",
      "242                     0        0        1        0         0            1   \n",
      "243                     0        0        0        0         1            1   \n",
      "\n",
      "     time_Lunch  day_ordinal_encoded  tip_percentage                bill_type  \n",
      "0             0                    3        5.944673             Normal-bills  \n",
      "1             0                    3        7.771465             Normal-bills  \n",
      "2             0                    3       16.658734  Highest-bills-with-tips  \n",
      "3             0                    3       13.978041  Highest-bills-with-tips  \n",
      "4             0                    3       14.680765  Highest-bills-with-tips  \n",
      "..          ...                  ...             ...                      ...  \n",
      "239           0                    2       20.392697  Highest-bills-with-tips  \n",
      "240           0                    2        7.358352             Normal-bills  \n",
      "241           0                    2        8.822232             Normal-bills  \n",
      "242           0                    2        9.820426             Normal-bills  \n",
      "243           0                    0       15.974441             Normal-bills  \n",
      "\n",
      "[244 rows x 15 columns]\n"
     ]
    }
   ],
   "source": [
    "df['bill_type'] = 'Normal-bills'\n",
    "df.loc[(df['total_bill'] > 10) & (df['tip'] > 3), 'bill_type'] = 'Highest-bills-with-tips'\n",
    "\n",
    "print(df)"
   ]
  },
  {
   "cell_type": "code",
   "execution_count": null,
   "id": "1779f058",
   "metadata": {},
   "outputs": [],
   "source": []
  }
 ],
 "metadata": {
  "kernelspec": {
   "display_name": "Python 3 (ipykernel)",
   "language": "python",
   "name": "python3"
  },
  "language_info": {
   "codemirror_mode": {
    "name": "ipython",
    "version": 3
   },
   "file_extension": ".py",
   "mimetype": "text/x-python",
   "name": "python",
   "nbconvert_exporter": "python",
   "pygments_lexer": "ipython3",
   "version": "3.11.4"
  }
 },
 "nbformat": 4,
 "nbformat_minor": 5
}
