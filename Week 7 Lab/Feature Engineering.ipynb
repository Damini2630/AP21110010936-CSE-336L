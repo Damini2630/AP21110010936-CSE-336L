{
 "cells": [
  {
   "cell_type": "markdown",
   "id": "9dd204a8",
   "metadata": {},
   "source": [
    "# Question 1"
   ]
  },
  {
   "cell_type": "code",
   "execution_count": 22,
   "id": "23302c18",
   "metadata": {},
   "outputs": [],
   "source": [
    "import numpy as np\n",
    "import pandas as pd"
   ]
  },
  {
   "cell_type": "code",
   "execution_count": 23,
   "id": "16d15a99",
   "metadata": {},
   "outputs": [
    {
     "name": "stdout",
     "output_type": "stream",
     "text": [
      "Feature Vector: [[0.62489218 0.58355342 0.72015719 0.49501537 0.83121954]]\n",
      "Mean: 0.6509675396372423\n",
      "Variance: 0.013364731118767048\n"
     ]
    }
   ],
   "source": [
    "def compute_mean_variance(vector):\n",
    "    mean = np.mean(vector)\n",
    "    variance = np.var(vector)\n",
    "    return mean, variance\n",
    "\n",
    "def main():\n",
    "    N = 5\n",
    "    # Create a random feature vector of size 1xN\n",
    "    feature_vector = np.random.rand(1, N)\n",
    "    \n",
    "    print(\"Feature Vector:\", feature_vector)\n",
    "    \n",
    "    mean, variance = compute_mean_variance(feature_vector)\n",
    "    print(\"Mean:\", mean)\n",
    "    print(\"Variance:\", variance)\n",
    "\n",
    "if __name__ == \"__main__\":\n",
    "    main()"
   ]
  },
  {
   "cell_type": "code",
   "execution_count": 24,
   "id": "c48142ad",
   "metadata": {},
   "outputs": [],
   "source": [
    "#The mean (average) of a set of numbers is calculated by summing up all the numbers and then dividing by the \n",
    "#total count of numbers.\n",
    "\n",
    "#The variance measures how much the numbers in a set differ from the mean. \n",
    "#It is calculated by taking the average of the squared differences between each number and the mean."
   ]
  },
  {
   "cell_type": "markdown",
   "id": "37db0234",
   "metadata": {},
   "source": [
    "# Question 2"
   ]
  },
  {
   "cell_type": "code",
   "execution_count": 25,
   "id": "0a8e6cec",
   "metadata": {},
   "outputs": [],
   "source": [
    "import pandas as pd\n",
    "import numpy as np"
   ]
  },
  {
   "cell_type": "code",
   "execution_count": 26,
   "id": "e37d6952",
   "metadata": {},
   "outputs": [
    {
     "name": "stdout",
     "output_type": "stream",
     "text": [
      "Feature Vector 1: [[0.48745069 0.25964255 0.1763026  0.81508995 0.15923594]]\n",
      "Feature Vector 2: [[0.08511309 0.6386546  0.589987   0.8987815  0.03607493]]\n",
      "Covariance: 0.04905278588011164\n"
     ]
    }
   ],
   "source": [
    "def compute_covariance(vector1,vector2):\n",
    "    covariance = np.cov(vector1,vector2)\n",
    "    return covariance[0,1]\n",
    "\n",
    "def main():\n",
    "    M = 5\n",
    "    # Create a random feature vector of size 1xM\n",
    "    feature_vector1 = np.random.rand(1, M)\n",
    "    feature_vector2 = np.random.rand(1, M)\n",
    "    \n",
    "    print(\"Feature Vector 1:\", feature_vector1)\n",
    "    print(\"Feature Vector 2:\", feature_vector2)\n",
    "    \n",
    "    covariance = compute_covariance(feature_vector1,feature_vector2)\n",
    "    print(\"Covariance:\", covariance)\n",
    "\n",
    "if __name__ == \"__main__\":\n",
    "    main()"
   ]
  },
  {
   "cell_type": "code",
   "execution_count": 27,
   "id": "6b88ee19",
   "metadata": {},
   "outputs": [],
   "source": [
    "#Covariance between two vectors represents how much two variables change together. In other words, it measures the degree to \n",
    "#which the variables tend to deviate from their respective means in similar ways.\n",
    "\n",
    "#If the covariance between two variables is positive, it indicates that when one variable has a higher than average value, \n",
    "#the other variable tends to have a higher than average value as well. Conversely, if the covariance is negative, \n",
    "#it suggests that when one variable has a higher than average value, the other tends to have a lower than average value."
   ]
  },
  {
   "cell_type": "markdown",
   "id": "ef51e7dd",
   "metadata": {},
   "source": [
    "# Question 3"
   ]
  },
  {
   "cell_type": "code",
   "execution_count": 28,
   "id": "ac0461c1",
   "metadata": {},
   "outputs": [],
   "source": [
    "import pandas as pd\n",
    "import numpy as np"
   ]
  },
  {
   "cell_type": "code",
   "execution_count": 29,
   "id": "bc2d66d1",
   "metadata": {},
   "outputs": [
    {
     "name": "stdout",
     "output_type": "stream",
     "text": [
      "Feature Vector 1: [[0.72431988 0.05511804 0.71720778 0.4647789  0.69838332]]\n",
      "Feature Vector 2: [[0.85459641 0.50939353 0.7323639  0.51498466 0.1975878 ]]\n",
      "Correlation: 1.0\n"
     ]
    }
   ],
   "source": [
    "def compute_correlation(vector1,vector2):\n",
    "    correlation = np.corrcoef(vector1,vector2)\n",
    "    return correlation[-1,1]\n",
    "\n",
    "def main():\n",
    "    N = 5\n",
    "    # Create a random feature vector of size 1xN\n",
    "    feature_vector1 = np.random.rand(1, N)\n",
    "    feature_vector2 = np.random.rand(1, N)\n",
    "    \n",
    "    print(\"Feature Vector 1:\", feature_vector1)\n",
    "    print(\"Feature Vector 2:\", feature_vector2)\n",
    "    \n",
    "    correlation = compute_correlation(feature_vector1,feature_vector2)\n",
    "    print(\"Correlation:\", correlation)\n",
    "\n",
    "if __name__ == \"__main__\":\n",
    "    main()"
   ]
  },
  {
   "cell_type": "code",
   "execution_count": 18,
   "id": "036460ec",
   "metadata": {},
   "outputs": [],
   "source": [
    "# Correlation represents the strength and direction of the linear relationship between two variables. \n",
    "# Unlike covariance, correlation is a standardized measure, meaning it is not affected by the scale of the variables. \n",
    "# It provides a more interpretable measure of the relationship between variables.\n",
    "\n",
    "# The correlation coefficient, often denoted by r, ranges from -1 to 1.\n",
    "\n",
    "# r=1: Perfect positive correlation. It indicates that as one variable increases, \n",
    "#     the other variable also increases in a perfectly linear manner.\n",
    "# r=−1: Perfect negative correlation. It indicates that as one variable increases, \n",
    "#     the other variable decreases in a perfectly linear manner."
   ]
  },
  {
   "cell_type": "markdown",
   "id": "7517e7c4",
   "metadata": {},
   "source": [
    "# Question 4"
   ]
  },
  {
   "cell_type": "code",
   "execution_count": 19,
   "id": "a53ab895",
   "metadata": {},
   "outputs": [
    {
     "name": "stdout",
     "output_type": "stream",
     "text": [
      "Feature Matrix:\n",
      "[[1 2 3 4 5]\n",
      " [2 3 4 5 6]\n",
      " [3 4 5 6 7]]\n",
      "\n",
      "Covariance Matrix:\n",
      "[[2.5 2.5 2.5]\n",
      " [2.5 2.5 2.5]\n",
      " [2.5 2.5 2.5]]\n",
      "\n",
      "Correlation Matrix:\n",
      "[[1. 1. 1.]\n",
      " [1. 1. 1.]\n",
      " [1. 1. 1.]]\n"
     ]
    }
   ],
   "source": [
    "def compute_covariance_matrix(matrix):\n",
    "    # Compute covariance matrix\n",
    "    covariance_matrix = np.cov(matrix)\n",
    "\n",
    "    return covariance_matrix\n",
    "\n",
    "def compute_correlation_matrix(matrix):\n",
    "    # Compute correlation matrix\n",
    "    correlation_matrix = np.corrcoef(matrix)\n",
    "\n",
    "    return correlation_matrix\n",
    "\n",
    "def main():\n",
    "    # Example feature matrix with 3 features (M=3) and 5 samples (N=5)\n",
    "    feature_matrix = np.array([[1, 2, 3, 4, 5],\n",
    "                                [2, 3, 4, 5, 6],\n",
    "                                [3, 4, 5, 6, 7]])\n",
    "\n",
    "    print(\"Feature Matrix:\")\n",
    "    print(feature_matrix)\n",
    "\n",
    "    covariance_matrix = compute_covariance_matrix(feature_matrix)\n",
    "    print(\"\\nCovariance Matrix:\")\n",
    "    print(covariance_matrix)\n",
    "\n",
    "    correlation_matrix = compute_correlation_matrix(feature_matrix)\n",
    "    print(\"\\nCorrelation Matrix:\")\n",
    "    print(correlation_matrix)\n",
    "\n",
    "if __name__ == \"__main__\":\n",
    "    main()"
   ]
  },
  {
   "cell_type": "code",
   "execution_count": 20,
   "id": "aa533689",
   "metadata": {},
   "outputs": [],
   "source": [
    "# Takeaways from these matrices:\n",
    "\n",
    "# Covariance Matrix:\n",
    "\n",
    "# =Diagonal elements represent the variance of each feature.\n",
    "# =Off-diagonal elements represent the covariance between pairs of features.\n",
    "# =Positive values indicate a positive relationship (increase in one feature corresponds to an increase in the other), \n",
    "# while negative values indicate a negative relationship (increase in one feature corresponds to a decrease in the other).\n",
    "# =The magnitude of the covariance depends on the scale of the features, making it difficult to interpret the strength of the \n",
    "# relationship.\n",
    "\n",
    "# Correlation Matrix:\n",
    "\n",
    "# =Similar to the covariance matrix, but it is standardized, with values ranging from -1 to 1.\n",
    "# =Diagonal elements are always 1, representing the perfect correlation between each feature and itself.\n",
    "# =Off-diagonal elements represent the correlation coefficients between pairs of features.\n",
    "# =Provides a clearer indication of the strength and direction of the linear relationship between features since \n",
    "# it's not affected by the scale of the features.\n",
    "\n",
    "# These matrices are useful in understanding the relationships between different features in the dataset. \n",
    "# A high correlation (either positive or negative) between two features might suggest redundancy or multicollinearity \n",
    "# in the dataset, which could impact the performance of certain algorithms like linear regression. Conversely, a low \n",
    "# correlation might indicate that the features are independent of each other."
   ]
  },
  {
   "cell_type": "code",
   "execution_count": null,
   "id": "80782969",
   "metadata": {},
   "outputs": [],
   "source": []
  }
 ],
 "metadata": {
  "kernelspec": {
   "display_name": "Python 3 (ipykernel)",
   "language": "python",
   "name": "python3"
  },
  "language_info": {
   "codemirror_mode": {
    "name": "ipython",
    "version": 3
   },
   "file_extension": ".py",
   "mimetype": "text/x-python",
   "name": "python",
   "nbconvert_exporter": "python",
   "pygments_lexer": "ipython3",
   "version": "3.11.4"
  }
 },
 "nbformat": 4,
 "nbformat_minor": 5
}
